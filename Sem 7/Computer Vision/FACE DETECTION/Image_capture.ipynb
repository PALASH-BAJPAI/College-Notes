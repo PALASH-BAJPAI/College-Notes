{
 "cells": [
  {
   "cell_type": "code",
   "execution_count": 3,
   "id": "03b01018",
   "metadata": {},
   "outputs": [
    {
     "name": "stdout",
     "output_type": "stream",
     "text": [
      "Collecting opencv-python\n",
      "  Downloading opencv_python-4.5.4.60-cp38-cp38-win_amd64.whl (35.1 MB)\n",
      "Requirement already satisfied: numpy>=1.17.3 in c:\\programdata\\anaconda3\\lib\\site-packages (from opencv-python) (1.20.1)\n",
      "Installing collected packages: opencv-python\n",
      "Successfully installed opencv-python-4.5.4.60\n",
      "Note: you may need to restart the kernel to use updated packages.\n"
     ]
    }
   ],
   "source": [
    "pip install opencv-python"
   ]
  },
  {
   "cell_type": "markdown",
   "id": "45ab37f2",
   "metadata": {},
   "source": [
    "## Collecting My Images From Webcam"
   ]
  },
  {
   "cell_type": "code",
   "execution_count": 3,
   "id": "ff78e189",
   "metadata": {},
   "outputs": [],
   "source": [
    "#imports\n",
    "import numpy as np\n",
    "import cv2"
   ]
  },
  {
   "cell_type": "code",
   "execution_count": 4,
   "id": "5a01b57b",
   "metadata": {},
   "outputs": [],
   "source": [
    "#Load Harr classifier from opencv which is used for face classification\n",
    "face_classifier  = cv2.CascadeClassifier('haarcascade_frontalface_default.xml')"
   ]
  },
  {
   "cell_type": "code",
   "execution_count": 5,
   "id": "bc9b8a37",
   "metadata": {},
   "outputs": [
    {
     "name": "stderr",
     "output_type": "stream",
     "text": [
      "<>:5: SyntaxWarning: \"is\" with a literal. Did you mean \"==\"?\n",
      "<>:5: SyntaxWarning: \"is\" with a literal. Did you mean \"==\"?\n",
      "<ipython-input-5-f1a71321bc09>:5: SyntaxWarning: \"is\" with a literal. Did you mean \"==\"?\n",
      "  if face is () or face is None:\n"
     ]
    }
   ],
   "source": [
    "#function to detect faces and return cropped faces\n",
    "def face_detector(image):\n",
    "    face=face_classifier.detectMultiScale(image,1.3,5)\n",
    "    \n",
    "    if face is () or face is None:\n",
    "        return None\n",
    "    \n",
    "    #return cropped image\n",
    "    for (x,y,w,h) in face:\n",
    "        x=x-10\n",
    "        y=y-10\n",
    "        crop=image[y:y+h+50, x:x+w+50]\n",
    "    return crop\n",
    "    "
   ]
  },
  {
   "cell_type": "code",
   "execution_count": 7,
   "id": "26e91758",
   "metadata": {},
   "outputs": [
    {
     "name": "stdout",
     "output_type": "stream",
     "text": [
      "Image Collection completed\n"
     ]
    }
   ],
   "source": [
    "#collect 300 images from webcam\n",
    "\n",
    "#Initialize webcam\n",
    "capture= cv2.VideoCapture(0)\n",
    "count=0  \n",
    "\n",
    "while True:\n",
    "    \n",
    "    ret,frame= capture.read()\n",
    "    img=face_detector(frame)\n",
    "    if img is not None:\n",
    "        count+=1\n",
    "        face=cv2.resize(img, (400, 400))\n",
    "        \n",
    "        #save files\n",
    "        file_name= './Images/' + str(count)+'.jpg'\n",
    "        cv2.imwrite(file_name,face)\n",
    "        \n",
    "        #put count on images and live count\n",
    "        cv2.putText(face,str(count), (50,50), cv2.FONT_HERSHEY_COMPLEX,1 ,(0,255,0), 2)\n",
    "        cv2.imshow('Face', face)\n",
    "        \n",
    "    else:\n",
    "        pass\n",
    "    \n",
    "    #stop on clicking enter or when it takes 300 images\n",
    "    if cv2.waitKey(1)== 13 or count==300 :\n",
    "        break\n",
    "        \n",
    "capture.release()\n",
    "cv2.destroyAllWindows()\n",
    "print(\"Image Collection completed\")"
   ]
  },
  {
   "cell_type": "code",
   "execution_count": null,
   "id": "288bfad6",
   "metadata": {},
   "outputs": [],
   "source": []
  }
 ],
 "metadata": {
  "kernelspec": {
   "display_name": "Python 3",
   "language": "python",
   "name": "python3"
  },
  "language_info": {
   "codemirror_mode": {
    "name": "ipython",
    "version": 3
   },
   "file_extension": ".py",
   "mimetype": "text/x-python",
   "name": "python",
   "nbconvert_exporter": "python",
   "pygments_lexer": "ipython3",
   "version": "3.8.8"
  }
 },
 "nbformat": 4,
 "nbformat_minor": 5
}
