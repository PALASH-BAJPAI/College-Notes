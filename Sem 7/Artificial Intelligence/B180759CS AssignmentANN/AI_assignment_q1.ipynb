{
  "nbformat": 4,
  "nbformat_minor": 0,
  "metadata": {
    "colab": {
      "name": "AI_assignment_q1.ipynb",
      "provenance": []
    },
    "kernelspec": {
      "name": "python3",
      "display_name": "Python 3"
    },
    "language_info": {
      "name": "python"
    }
  },
  "cells": [
    {
      "cell_type": "code",
      "metadata": {
        "id": "ZSBksH9I0DCo"
      },
      "source": [
        "import numpy as np\n",
        "import tensorflow as tf\n",
        "import matplotlib.pyplot as plt\n",
        "import keras\n",
        "from keras.datasets import mnist\n",
        "\n",
        "import os\n",
        "from keras.preprocessing.image import array_to_img\n",
        "from keras.models import Sequential\n",
        "from keras.layers import Dense,Conv2D,Activation,Dropout,Flatten\n"
      ],
      "execution_count": 1,
      "outputs": []
    },
    {
      "cell_type": "code",
      "metadata": {
        "id": "Np9uLMeU1K7J",
        "colab": {
          "base_uri": "https://localhost:8080/"
        },
        "outputId": "a55fac69-f329-4f0c-ee7d-fb6ae45942fd"
      },
      "source": [
        "#load data\n",
        "(x_train,y_train),(x_test,y_test)=mnist.load_data()"
      ],
      "execution_count": 2,
      "outputs": [
        {
          "output_type": "stream",
          "name": "stdout",
          "text": [
            "Downloading data from https://storage.googleapis.com/tensorflow/tf-keras-datasets/mnist.npz\n",
            "11493376/11490434 [==============================] - 0s 0us/step\n",
            "11501568/11490434 [==============================] - 0s 0us/step\n"
          ]
        }
      ]
    },
    {
      "cell_type": "code",
      "metadata": {
        "colab": {
          "base_uri": "https://localhost:8080/",
          "height": 282
        },
        "id": "uTSUNKt91ZU-",
        "outputId": "b6090ea4-5b3d-4b03-bd20-d5b7d425739f"
      },
      "source": [
        "#Explore the  data\n",
        "plt.imshow(x_train[0])\n",
        "print(y_train[0])"
      ],
      "execution_count": 3,
      "outputs": [
        {
          "output_type": "stream",
          "name": "stdout",
          "text": [
            "5\n"
          ]
        },
        {
          "output_type": "display_data",
          "data": {
            "image/png": "[encoded data removed]",
            "text/plain": [
              "<Figure size 432x288 with 1 Axes>"
            ]
          },
          "metadata": {
            "needs_background": "light"
          }
        }
      ]
    },
    {
      "cell_type": "code",
      "metadata": {
        "id": "91ufB2tV2S-e"
      },
      "source": [
        "# preprocess the data\n",
        "LABEL=[]\n",
        "x_train = x_train.reshape((x_train.shape[0], 28, 28, 1))\n",
        "x_test = x_test.reshape((x_test.shape[0], 28, 28, 1))\n",
        "\n"
      ],
      "execution_count": 4,
      "outputs": []
    },
    {
      "cell_type": "code",
      "metadata": {
        "id": "TU244E9T4CTu"
      },
      "source": [
        "#normalize the data\n",
        "x_train=x_train.astype('float32')\n",
        "x_test=x_test.astype('float32')\n",
        "\n",
        "x_train=x_train/255.0\n",
        "x_test=x_test/255.0"
      ],
      "execution_count": 5,
      "outputs": []
    },
    {
      "cell_type": "code",
      "metadata": {
        "id": "V1aZGJ_q4qHd"
      },
      "source": [
        "#define the model\n",
        "model1=Sequential([\n",
        "                   Conv2D(filters=25, kernel_size=(3, 3),input_shape=(28,28,1), activation='tanh'),\n",
        "                   Flatten(),\n",
        "                   Dense(units=64,activation=\"tanh\"),\n",
        "                   Dense(units=16,activation=\"tanh\"),\n",
        "                   Dense(units=10,activation='softmax')\n",
        "])"
      ],
      "execution_count": 6,
      "outputs": []
    },
    {
      "cell_type": "code",
      "metadata": {
        "colab": {
          "base_uri": "https://localhost:8080/"
        },
        "id": "0tOKymIM8GZi",
        "outputId": "59ee8ee4-f072-4c9e-839c-d4f402ac251e"
      },
      "source": [
        "#compile the model\n",
        "model1.compile(optimizer=\"adam\",loss=\"sparse_categorical_crossentropy\",metrics=['accuracy'])\n",
        "model1.summary()"
      ],
      "execution_count": 7,
      "outputs": [
        {
          "output_type": "stream",
          "name": "stdout",
          "text": [
            "Model: \"sequential\"\n",
            "_________________________________________________________________\n",
            " Layer (type)                Output Shape              Param #   \n",
            "=================================================================\n",
            " conv2d (Conv2D)             (None, 26, 26, 25)        250       \n",
            "                                                                 \n",
            " flatten (Flatten)           (None, 16900)             0         \n",
            "                                                                 \n",
            " dense (Dense)               (None, 64)                1081664   \n",
            "                                                                 \n",
            " dense_1 (Dense)             (None, 16)                1040      \n",
            "                                                                 \n",
            " dense_2 (Dense)             (None, 10)                170       \n",
            "                                                                 \n",
            "=================================================================\n",
            "Total params: 1,083,124\n",
            "Trainable params: 1,083,124\n",
            "Non-trainable params: 0\n",
            "_________________________________________________________________\n"
          ]
        }
      ]
    },
    {
      "cell_type": "code",
      "metadata": {
        "colab": {
          "base_uri": "https://localhost:8080/"
        },
        "id": "QuknB67m83hZ",
        "outputId": "bdb9fad2-c88b-4fac-f02a-650b595b425c"
      },
      "source": [
        "#FIT the model\n",
        "size_of_batch=32\n",
        "model1.fit(x_train,y_train,batch_size=size_of_batch,epochs=30)"
      ],
      "execution_count": 8,
      "outputs": [
        {
          "output_type": "stream",
          "name": "stdout",
          "text": [
            "Epoch 1/30\n",
            "1875/1875 [==============================] - 36s 19ms/step - loss: 0.3042 - accuracy: 0.9217\n",
            "Epoch 2/30\n",
            "1875/1875 [==============================] - 34s 18ms/step - loss: 0.1608 - accuracy: 0.9540\n",
            "Epoch 3/30\n",
            "1875/1875 [==============================] - 34s 18ms/step - loss: 0.1210 - accuracy: 0.9653\n",
            "Epoch 4/30\n",
            "1875/1875 [==============================] - 34s 18ms/step - loss: 0.1008 - accuracy: 0.9696\n",
            "Epoch 5/30\n",
            "1875/1875 [==============================] - 34s 18ms/step - loss: 0.0878 - accuracy: 0.9730\n",
            "Epoch 6/30\n",
            "1875/1875 [==============================] - 34s 18ms/step - loss: 0.0723 - accuracy: 0.9778\n",
            "Epoch 7/30\n",
            "1875/1875 [==============================] - 34s 18ms/step - loss: 0.0621 - accuracy: 0.9810\n",
            "Epoch 8/30\n",
            "1875/1875 [==============================] - 34s 18ms/step - loss: 0.0557 - accuracy: 0.9826\n",
            "Epoch 9/30\n",
            "1875/1875 [==============================] - 34s 18ms/step - loss: 0.0452 - accuracy: 0.9862\n",
            "Epoch 10/30\n",
            "1875/1875 [==============================] - 34s 18ms/step - loss: 0.0442 - accuracy: 0.9864\n",
            "Epoch 11/30\n",
            "1875/1875 [==============================] - 34s 18ms/step - loss: 0.0412 - accuracy: 0.9866\n",
            "Epoch 12/30\n",
            "1875/1875 [==============================] - 34s 18ms/step - loss: 0.0388 - accuracy: 0.9880\n",
            "Epoch 13/30\n",
            "1875/1875 [==============================] - 34s 18ms/step - loss: 0.0359 - accuracy: 0.9882\n",
            "Epoch 14/30\n",
            "1875/1875 [==============================] - 34s 18ms/step - loss: 0.0299 - accuracy: 0.9902\n",
            "Epoch 15/30\n",
            "1875/1875 [==============================] - 34s 18ms/step - loss: 0.0319 - accuracy: 0.9897\n",
            "Epoch 16/30\n",
            "1875/1875 [==============================] - 34s 18ms/step - loss: 0.0291 - accuracy: 0.9905\n",
            "Epoch 17/30\n",
            "1875/1875 [==============================] - 34s 18ms/step - loss: 0.0300 - accuracy: 0.9901\n",
            "Epoch 18/30\n",
            "1875/1875 [==============================] - 34s 18ms/step - loss: 0.0272 - accuracy: 0.9912\n",
            "Epoch 19/30\n",
            "1875/1875 [==============================] - 34s 18ms/step - loss: 0.0254 - accuracy: 0.9916\n",
            "Epoch 20/30\n",
            "1875/1875 [==============================] - 34s 18ms/step - loss: 0.0292 - accuracy: 0.9906\n",
            "Epoch 21/30\n",
            "1875/1875 [==============================] - 34s 18ms/step - loss: 0.0236 - accuracy: 0.9925\n",
            "Epoch 22/30\n",
            "1875/1875 [==============================] - 34s 18ms/step - loss: 0.0252 - accuracy: 0.9920\n",
            "Epoch 23/30\n",
            "1875/1875 [==============================] - 34s 18ms/step - loss: 0.0251 - accuracy: 0.9918\n",
            "Epoch 24/30\n",
            "1875/1875 [==============================] - 34s 18ms/step - loss: 0.0232 - accuracy: 0.9924\n",
            "Epoch 25/30\n",
            "1875/1875 [==============================] - 34s 18ms/step - loss: 0.0212 - accuracy: 0.9930\n",
            "Epoch 26/30\n",
            "1875/1875 [==============================] - 34s 18ms/step - loss: 0.0239 - accuracy: 0.9922\n",
            "Epoch 27/30\n",
            "1875/1875 [==============================] - 34s 18ms/step - loss: 0.0219 - accuracy: 0.9925\n",
            "Epoch 28/30\n",
            "1875/1875 [==============================] - 34s 18ms/step - loss: 0.0229 - accuracy: 0.9925\n",
            "Epoch 29/30\n",
            "1875/1875 [==============================] - 34s 18ms/step - loss: 0.0249 - accuracy: 0.9915\n",
            "Epoch 30/30\n",
            "1875/1875 [==============================] - 34s 18ms/step - loss: 0.0228 - accuracy: 0.9927\n"
          ]
        },
        {
          "output_type": "execute_result",
          "data": {
            "text/plain": [
              "<keras.callbacks.History at 0x7f68804730d0>"
            ]
          },
          "metadata": {},
          "execution_count": 8
        }
      ]
    },
    {
      "cell_type": "code",
      "metadata": {
        "colab": {
          "base_uri": "https://localhost:8080/"
        },
        "id": "dtNixeR4Vj2H",
        "outputId": "d4b6b274-86cb-482b-943e-1e6ecedab41d"
      },
      "source": [
        "#check the accuracy\n",
        "test_loss,test_accuracy=model1.evaluate(x_test,y_test)\n",
        "print(f'Test loss is {test_loss}')\n",
        "print(f'Test accuracy is {test_accuracy}')"
      ],
      "execution_count": 9,
      "outputs": [
        {
          "output_type": "stream",
          "name": "stdout",
          "text": [
            "313/313 [==============================] - 2s 7ms/step - loss: 0.1682 - accuracy: 0.9603\n",
            "Test loss is 0.16823142766952515\n",
            "Test accuracy is 0.9603000283241272\n"
          ]
        }
      ]
    }
  ]
}