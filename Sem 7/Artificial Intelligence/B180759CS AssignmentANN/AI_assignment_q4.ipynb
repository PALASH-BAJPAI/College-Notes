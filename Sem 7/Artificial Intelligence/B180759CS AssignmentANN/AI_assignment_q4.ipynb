{
  "nbformat": 4,
  "nbformat_minor": 0,
  "metadata": {
    "colab": {
      "name": "AI_assignment_q4.ipynb",
      "provenance": []
    },
    "kernelspec": {
      "name": "python3",
      "display_name": "Python 3"
    },
    "language_info": {
      "name": "python"
    },
    "accelerator": "GPU"
  },
  "cells": [
    {
      "cell_type": "code",
      "metadata": {
        "id": "NJ9hu8YiKb9x"
      },
      "source": [
        "import numpy as np\n",
        "import tensorflow as tf\n",
        "import matplotlib.pyplot as plt\n",
        "import keras\n",
        "from keras.datasets import mnist\n",
        "\n",
        "from keras.preprocessing.image import array_to_img\n",
        "from keras.models import Sequential\n",
        "from keras.layers import Dense,Conv2D,Activation,Dropout,Flatten,MaxPool2D"
      ],
      "execution_count": 1,
      "outputs": []
    },
    {
      "cell_type": "code",
      "metadata": {
        "colab": {
          "base_uri": "https://localhost:8080/"
        },
        "id": "Oy3GZKmkKj36",
        "outputId": "bf41823c-925e-4656-c8fe-312f41051fe0"
      },
      "source": [
        "#load data\n",
        "(x_train,y_train),(x_test,y_test)=mnist.load_data()"
      ],
      "execution_count": 2,
      "outputs": [
        {
          "output_type": "stream",
          "name": "stdout",
          "text": [
            "Downloading data from https://storage.googleapis.com/tensorflow/tf-keras-datasets/mnist.npz\n",
            "11493376/11490434 [==============================] - 0s 0us/step\n",
            "11501568/11490434 [==============================] - 0s 0us/step\n"
          ]
        }
      ]
    },
    {
      "cell_type": "code",
      "metadata": {
        "id": "uCgNRCglKnXJ"
      },
      "source": [
        "# preprocess the data\n",
        "x_train = x_train.reshape((x_train.shape[0], 28, 28, 1))\n",
        "x_test = x_test.reshape((x_test.shape[0], 28, 28, 1))"
      ],
      "execution_count": 3,
      "outputs": []
    },
    {
      "cell_type": "code",
      "metadata": {
        "id": "7EAsZdGLKqe4"
      },
      "source": [
        "#normalize the data\n",
        "x_train=x_train.astype('float32')\n",
        "x_test=x_test.astype('float32')\n",
        "\n",
        "x_train=x_train/255.0\n",
        "x_test=x_test/255.0"
      ],
      "execution_count": 4,
      "outputs": []
    },
    {
      "cell_type": "code",
      "metadata": {
        "id": "i3-eWRVbKtua"
      },
      "source": [
        "#define the model\n",
        "model1=Sequential([\n",
        "                   Dense(units=784,input_shape=(28,28,1),activation='relu'),\n",
        "                   Flatten(),\n",
        "                   Dropout(0.25,seed=30),\n",
        "                   Dense(units=16,activation='relu'),\n",
        "                   Dense(units=10,activation='softmax')\n",
        "])"
      ],
      "execution_count": 5,
      "outputs": []
    },
    {
      "cell_type": "code",
      "metadata": {
        "colab": {
          "base_uri": "https://localhost:8080/"
        },
        "id": "P_POyWq_MB-G",
        "outputId": "e22eee12-b4c3-4ed0-e134-0fa451bdbe60"
      },
      "source": [
        "model1.compile(optimizer=\"adam\",loss=\"sparse_categorical_crossentropy\" ,metrics=['accuracy'])\n",
        "model1.summary()"
      ],
      "execution_count": 6,
      "outputs": [
        {
          "output_type": "stream",
          "name": "stdout",
          "text": [
            "Model: \"sequential\"\n",
            "_________________________________________________________________\n",
            " Layer (type)                Output Shape              Param #   \n",
            "=================================================================\n",
            " dense (Dense)               (None, 28, 28, 784)       1568      \n",
            "                                                                 \n",
            " flatten (Flatten)           (None, 614656)            0         \n",
            "                                                                 \n",
            " dropout (Dropout)           (None, 614656)            0         \n",
            "                                                                 \n",
            " dense_1 (Dense)             (None, 16)                9834512   \n",
            "                                                                 \n",
            " dense_2 (Dense)             (None, 10)                170       \n",
            "                                                                 \n",
            "=================================================================\n",
            "Total params: 9,836,250\n",
            "Trainable params: 9,836,250\n",
            "Non-trainable params: 0\n",
            "_________________________________________________________________\n"
          ]
        }
      ]
    },
    {
      "cell_type": "code",
      "metadata": {
        "colab": {
          "base_uri": "https://localhost:8080/"
        },
        "id": "7ISMf93hMJEw",
        "outputId": "739d87de-5ebe-4d6a-8258-6db377586a94"
      },
      "source": [
        "#FIT the model\n",
        "size_of_batch=32\n",
        "model1.fit(x_train,y_train,batch_size=size_of_batch,epochs=10)"
      ],
      "execution_count": 7,
      "outputs": [
        {
          "output_type": "stream",
          "name": "stdout",
          "text": [
            "Epoch 1/10\n",
            "1875/1875 [==============================] - 89s 46ms/step - loss: 0.3841 - accuracy: 0.8839\n",
            "Epoch 2/10\n",
            "1875/1875 [==============================] - 86s 46ms/step - loss: 0.2578 - accuracy: 0.9251\n",
            "Epoch 3/10\n",
            "1875/1875 [==============================] - 86s 46ms/step - loss: 0.2269 - accuracy: 0.9336\n",
            "Epoch 4/10\n",
            "1875/1875 [==============================] - 86s 46ms/step - loss: 0.2102 - accuracy: 0.9387\n",
            "Epoch 5/10\n",
            "1875/1875 [==============================] - 86s 46ms/step - loss: 0.1990 - accuracy: 0.9423\n",
            "Epoch 6/10\n",
            "1875/1875 [==============================] - 86s 46ms/step - loss: 0.1894 - accuracy: 0.9445\n",
            "Epoch 7/10\n",
            "1875/1875 [==============================] - 86s 46ms/step - loss: 0.1820 - accuracy: 0.9466\n",
            "Epoch 8/10\n",
            "1875/1875 [==============================] - 86s 46ms/step - loss: 0.1748 - accuracy: 0.9496\n",
            "Epoch 9/10\n",
            "1875/1875 [==============================] - 86s 46ms/step - loss: 0.1689 - accuracy: 0.9499\n",
            "Epoch 10/10\n",
            "1875/1875 [==============================] - 86s 46ms/step - loss: 0.1639 - accuracy: 0.9522\n"
          ]
        },
        {
          "output_type": "execute_result",
          "data": {
            "text/plain": [
              "<keras.callbacks.History at 0x7fc5e02eb050>"
            ]
          },
          "metadata": {},
          "execution_count": 7
        }
      ]
    },
    {
      "cell_type": "code",
      "metadata": {
        "colab": {
          "base_uri": "https://localhost:8080/"
        },
        "id": "A-4CjD_VXw-j",
        "outputId": "aa2c7313-4e4c-4c20-98f9-1a72dc46cb87"
      },
      "source": [
        "#check the accuracy\n",
        "test_loss,test_accuracy=model1.evaluate(x_test,y_test)\n",
        "print(f'Test loss is {test_loss}')\n",
        "print(f'Test accuracy is {test_accuracy}')"
      ],
      "execution_count": 8,
      "outputs": [
        {
          "output_type": "stream",
          "name": "stdout",
          "text": [
            "313/313 [==============================] - 4s 12ms/step - loss: 0.2158 - accuracy: 0.9357\n",
            "Test loss is 0.21575507521629333\n",
            "Test accuracy is 0.935699999332428\n"
          ]
        }
      ]
    }
  ]
}