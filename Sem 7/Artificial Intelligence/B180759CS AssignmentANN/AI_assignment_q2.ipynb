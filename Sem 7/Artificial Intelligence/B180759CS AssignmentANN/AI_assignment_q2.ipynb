{
  "nbformat": 4,
  "nbformat_minor": 0,
  "metadata": {
    "colab": {
      "name": "AI_assignment_q2.ipynb",
      "provenance": []
    },
    "kernelspec": {
      "name": "python3",
      "display_name": "Python 3"
    },
    "language_info": {
      "name": "python"
    }
  },
  "cells": [
    {
      "cell_type": "code",
      "metadata": {
        "id": "ZSBksH9I0DCo"
      },
      "source": [
        "import numpy as np\n",
        "import tensorflow as tf\n",
        "import matplotlib.pyplot as plt\n",
        "import keras\n",
        "from keras.datasets import mnist\n",
        "\n",
        "import os\n",
        "from keras.preprocessing.image import array_to_img\n",
        "from keras.models import Sequential\n",
        "from keras.layers import Dense,Conv2D,Activation,Dropout,Flatten,MaxPool2D\n"
      ],
      "execution_count": 1,
      "outputs": []
    },
    {
      "cell_type": "code",
      "metadata": {
        "id": "Np9uLMeU1K7J"
      },
      "source": [
        "#load data\n",
        "(x_train,y_train),(x_test,y_test)=mnist.load_data()"
      ],
      "execution_count": 2,
      "outputs": []
    },
    {
      "cell_type": "code",
      "metadata": {
        "colab": {
          "base_uri": "https://localhost:8080/",
          "height": 282
        },
        "id": "uTSUNKt91ZU-",
        "outputId": "4dc838ae-1292-4664-f822-d70f46fa53c2"
      },
      "source": [
        "#Explore the  data\n",
        "plt.imshow(x_train[0])\n",
        "print(y_train[0])"
      ],
      "execution_count": 3,
      "outputs": [
        {
          "output_type": "stream",
          "name": "stdout",
          "text": [
            "5\n"
          ]
        },
        {
          "output_type": "display_data",
          "data": {
            "image/png": "[encoded data removed]",
            "text/plain": [
              "<Figure size 432x288 with 1 Axes>"
            ]
          },
          "metadata": {
            "needs_background": "light"
          }
        }
      ]
    },
    {
      "cell_type": "code",
      "metadata": {
        "id": "91ufB2tV2S-e"
      },
      "source": [
        "# preprocess the data\n",
        "x_train = x_train.reshape((x_train.shape[0], 28, 28, 1))\n",
        "x_test = x_test.reshape((x_test.shape[0], 28, 28, 1))\n",
        "\n"
      ],
      "execution_count": 4,
      "outputs": []
    },
    {
      "cell_type": "code",
      "metadata": {
        "id": "TU244E9T4CTu"
      },
      "source": [
        "#normalize the data\n",
        "x_train=x_train.astype('float32')\n",
        "x_test=x_test.astype('float32')\n",
        "\n",
        "x_train=x_train/255.0\n",
        "x_test=x_test/255.0"
      ],
      "execution_count": 5,
      "outputs": []
    },
    {
      "cell_type": "code",
      "metadata": {
        "id": "V1aZGJ_q4qHd"
      },
      "source": [
        "#define the model\n",
        "model1=Sequential([\n",
        "                   Conv2D(filters=25, kernel_size=(3, 3),input_shape=(28,28,1), activation='tanh'),\n",
        "                   MaxPool2D((2, 2)),\n",
        "                   Conv2D(filters=64, kernel_size=(3, 3), activation='tanh'),\n",
        "                   MaxPool2D((2, 2)),\n",
        "                   Flatten(),\n",
        "                   Dense(units=64,activation=\"tanh\"),\n",
        "                   Dense(units=16,activation=\"tanh\"),\n",
        "                   Dense(units=10,activation='softmax')\n",
        "])"
      ],
      "execution_count": 7,
      "outputs": []
    },
    {
      "cell_type": "code",
      "metadata": {
        "colab": {
          "base_uri": "https://localhost:8080/"
        },
        "id": "0tOKymIM8GZi",
        "outputId": "e74b8ed6-119c-400e-9d16-04577f73c386"
      },
      "source": [
        "#compile the model\n",
        "model1.compile(optimizer=\"adam\",loss=\"sparse_categorical_crossentropy\",metrics=['accuracy'])\n",
        "model1.summary()"
      ],
      "execution_count": 8,
      "outputs": [
        {
          "output_type": "stream",
          "name": "stdout",
          "text": [
            "Model: \"sequential\"\n",
            "_________________________________________________________________\n",
            " Layer (type)                Output Shape              Param #   \n",
            "=================================================================\n",
            " conv2d_1 (Conv2D)           (None, 26, 26, 25)        250       \n",
            "                                                                 \n",
            " max_pooling2d (MaxPooling2D  (None, 13, 13, 25)       0         \n",
            " )                                                               \n",
            "                                                                 \n",
            " conv2d_2 (Conv2D)           (None, 11, 11, 64)        14464     \n",
            "                                                                 \n",
            " max_pooling2d_1 (MaxPooling  (None, 5, 5, 64)         0         \n",
            " 2D)                                                             \n",
            "                                                                 \n",
            " flatten (Flatten)           (None, 1600)              0         \n",
            "                                                                 \n",
            " dense (Dense)               (None, 64)                102464    \n",
            "                                                                 \n",
            " dense_1 (Dense)             (None, 16)                1040      \n",
            "                                                                 \n",
            " dense_2 (Dense)             (None, 10)                170       \n",
            "                                                                 \n",
            "=================================================================\n",
            "Total params: 118,388\n",
            "Trainable params: 118,388\n",
            "Non-trainable params: 0\n",
            "_________________________________________________________________\n"
          ]
        }
      ]
    },
    {
      "cell_type": "code",
      "metadata": {
        "colab": {
          "base_uri": "https://localhost:8080/"
        },
        "id": "QuknB67m83hZ",
        "outputId": "e73a81d3-d75c-4507-f0f1-208035dd9375"
      },
      "source": [
        "#FIT the model\n",
        "size_of_batch=32\n",
        "model1.fit(x_train,y_train,batch_size=size_of_batch,epochs=30)"
      ],
      "execution_count": 9,
      "outputs": [
        {
          "output_type": "stream",
          "name": "stdout",
          "text": [
            "Epoch 1/30\n",
            "1875/1875 [==============================] - 54s 28ms/step - loss: 0.1753 - accuracy: 0.9592\n",
            "Epoch 2/30\n",
            "1875/1875 [==============================] - 54s 29ms/step - loss: 0.0548 - accuracy: 0.9843\n",
            "Epoch 3/30\n",
            "1875/1875 [==============================] - 54s 29ms/step - loss: 0.0411 - accuracy: 0.9884\n",
            "Epoch 4/30\n",
            "1875/1875 [==============================] - 54s 29ms/step - loss: 0.0322 - accuracy: 0.9907\n",
            "Epoch 5/30\n",
            "1875/1875 [==============================] - 53s 28ms/step - loss: 0.0268 - accuracy: 0.9920\n",
            "Epoch 6/30\n",
            "1875/1875 [==============================] - 53s 28ms/step - loss: 0.0232 - accuracy: 0.9929\n",
            "Epoch 7/30\n",
            "1875/1875 [==============================] - 53s 28ms/step - loss: 0.0215 - accuracy: 0.9935\n",
            "Epoch 8/30\n",
            "1875/1875 [==============================] - 53s 28ms/step - loss: 0.0199 - accuracy: 0.9938\n",
            "Epoch 9/30\n",
            "1875/1875 [==============================] - 54s 29ms/step - loss: 0.0174 - accuracy: 0.9945\n",
            "Epoch 10/30\n",
            "1875/1875 [==============================] - 54s 29ms/step - loss: 0.0164 - accuracy: 0.9949\n",
            "Epoch 11/30\n",
            "1875/1875 [==============================] - 53s 28ms/step - loss: 0.0168 - accuracy: 0.9947\n",
            "Epoch 12/30\n",
            "1875/1875 [==============================] - 54s 29ms/step - loss: 0.0138 - accuracy: 0.9955\n",
            "Epoch 13/30\n",
            "1875/1875 [==============================] - 55s 30ms/step - loss: 0.0146 - accuracy: 0.9954\n",
            "Epoch 14/30\n",
            "1875/1875 [==============================] - 55s 29ms/step - loss: 0.0123 - accuracy: 0.9964\n",
            "Epoch 15/30\n",
            "1875/1875 [==============================] - 55s 29ms/step - loss: 0.0131 - accuracy: 0.9958\n",
            "Epoch 16/30\n",
            "1875/1875 [==============================] - 54s 29ms/step - loss: 0.0123 - accuracy: 0.9958\n",
            "Epoch 17/30\n",
            "1875/1875 [==============================] - 53s 29ms/step - loss: 0.0120 - accuracy: 0.9962\n",
            "Epoch 18/30\n",
            "1875/1875 [==============================] - 53s 29ms/step - loss: 0.0132 - accuracy: 0.9957\n",
            "Epoch 19/30\n",
            "1875/1875 [==============================] - 53s 29ms/step - loss: 0.0100 - accuracy: 0.9968\n",
            "Epoch 20/30\n",
            "1875/1875 [==============================] - 53s 28ms/step - loss: 0.0124 - accuracy: 0.9959\n",
            "Epoch 21/30\n",
            "1875/1875 [==============================] - 53s 29ms/step - loss: 0.0106 - accuracy: 0.9963\n",
            "Epoch 22/30\n",
            "1875/1875 [==============================] - 53s 28ms/step - loss: 0.0118 - accuracy: 0.9961\n",
            "Epoch 23/30\n",
            "1875/1875 [==============================] - 53s 28ms/step - loss: 0.0085 - accuracy: 0.9975\n",
            "Epoch 24/30\n",
            "1875/1875 [==============================] - 53s 28ms/step - loss: 0.0093 - accuracy: 0.9968\n",
            "Epoch 25/30\n",
            "1875/1875 [==============================] - 53s 28ms/step - loss: 0.0101 - accuracy: 0.9966\n",
            "Epoch 26/30\n",
            "1875/1875 [==============================] - 54s 29ms/step - loss: 0.0114 - accuracy: 0.9962\n",
            "Epoch 27/30\n",
            "1875/1875 [==============================] - 54s 29ms/step - loss: 0.0094 - accuracy: 0.9968\n",
            "Epoch 28/30\n",
            "1875/1875 [==============================] - 54s 29ms/step - loss: 0.0118 - accuracy: 0.9963\n",
            "Epoch 29/30\n",
            "1875/1875 [==============================] - 54s 29ms/step - loss: 0.0109 - accuracy: 0.9965\n",
            "Epoch 30/30\n",
            "1875/1875 [==============================] - 53s 28ms/step - loss: 0.0088 - accuracy: 0.9970\n"
          ]
        },
        {
          "output_type": "execute_result",
          "data": {
            "text/plain": [
              "<keras.callbacks.History at 0x7f5cb9e65550>"
            ]
          },
          "metadata": {},
          "execution_count": 9
        }
      ]
    },
    {
      "cell_type": "code",
      "metadata": {
        "colab": {
          "base_uri": "https://localhost:8080/"
        },
        "id": "yWJd7wmCNIrs",
        "outputId": "4c23925e-627d-491a-bb78-7536c90775ef"
      },
      "source": [
        "#check the accuracy\n",
        "test_loss,test_accuracy=model1.evaluate(x_test,y_test)\n",
        "print(f'Test loss is {test_loss}')\n",
        "print(f'Test accuracy is {test_accuracy}')"
      ],
      "execution_count": 10,
      "outputs": [
        {
          "output_type": "stream",
          "name": "stdout",
          "text": [
            "313/313 [==============================] - 3s 10ms/step - loss: 0.0515 - accuracy: 0.9871\n",
            "Test loss is 0.05152537673711777\n",
            "Test accuracy is 0.9871000051498413\n"
          ]
        }
      ]
    }
  ]
}