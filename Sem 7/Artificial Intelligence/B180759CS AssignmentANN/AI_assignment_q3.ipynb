{
  "nbformat": 4,
  "nbformat_minor": 0,
  "metadata": {
    "colab": {
      "name": "AI_assignment_q3.ipynb",
      "provenance": []
    },
    "kernelspec": {
      "name": "python3",
      "display_name": "Python 3"
    },
    "language_info": {
      "name": "python"
    }
  },
  "cells": [
    {
      "cell_type": "code",
      "metadata": {
        "id": "21LpX-qJIZ-u"
      },
      "source": [
        "import numpy as np\n",
        "import tensorflow as tf\n",
        "import matplotlib.pyplot as plt\n",
        "import keras\n",
        "from keras.datasets import mnist\n",
        "\n",
        "from keras.preprocessing.image import array_to_img\n",
        "from keras.models import Sequential\n",
        "from keras.layers import Dense,Conv2D,Activation,Dropout,Flatten,MaxPool2D"
      ],
      "execution_count": 2,
      "outputs": []
    },
    {
      "cell_type": "code",
      "metadata": {
        "colab": {
          "base_uri": "https://localhost:8080/"
        },
        "id": "geDZVQBYJYGI",
        "outputId": "66328e0c-b093-40c5-cfed-757fee82f015"
      },
      "source": [
        "#load data\n",
        "(x_train,y_train),(x_test,y_test)=mnist.load_data()"
      ],
      "execution_count": 3,
      "outputs": [
        {
          "output_type": "stream",
          "name": "stdout",
          "text": [
            "Downloading data from https://storage.googleapis.com/tensorflow/tf-keras-datasets/mnist.npz\n",
            "11493376/11490434 [==============================] - 0s 0us/step\n",
            "11501568/11490434 [==============================] - 0s 0us/step\n"
          ]
        }
      ]
    },
    {
      "cell_type": "code",
      "metadata": {
        "id": "NfsLL631Jbbv"
      },
      "source": [
        "# preprocess the data\n",
        "x_train = x_train.reshape((x_train.shape[0], 28, 28, 1))\n",
        "x_test = x_test.reshape((x_test.shape[0], 28, 28, 1))\n"
      ],
      "execution_count": 4,
      "outputs": []
    },
    {
      "cell_type": "code",
      "metadata": {
        "id": "wcRypKo2Jcvc"
      },
      "source": [
        "#normalize the data\n",
        "x_train=x_train.astype('float32')\n",
        "x_test=x_test.astype('float32')\n",
        "\n",
        "x_train=x_train/255.0\n",
        "x_test=x_test/255.0"
      ],
      "execution_count": 5,
      "outputs": []
    },
    {
      "cell_type": "code",
      "metadata": {
        "id": "UtqLP-pfJk3z"
      },
      "source": [
        "#define the model\n",
        "model1=Sequential([\n",
        "                   Conv2D(filters=25, kernel_size=(3, 3),input_shape=(28,28,1), activation='relu'),\n",
        "                   MaxPool2D((2, 2)),\n",
        "                   Conv2D(filters=64, kernel_size=(3, 3), activation='relu'),\n",
        "                   MaxPool2D((2, 2)),\n",
        "                   Flatten(),\n",
        "                   Dense(units=64,activation=\"relu\"),\n",
        "                   Dense(units=16,activation=\"relu\"),\n",
        "                   Dense(units=10,activation='softmax')\n",
        "])"
      ],
      "execution_count": 6,
      "outputs": []
    },
    {
      "cell_type": "code",
      "metadata": {
        "colab": {
          "base_uri": "https://localhost:8080/"
        },
        "id": "3OkOPRNJJuqI",
        "outputId": "672555ab-38fb-4f43-c717-a75ef55b9236"
      },
      "source": [
        "model1.compile(optimizer=\"adam\",loss=\"sparse_categorical_crossentropy\",metrics=['accuracy'])\n",
        "model1.summary()"
      ],
      "execution_count": 7,
      "outputs": [
        {
          "output_type": "stream",
          "name": "stdout",
          "text": [
            "Model: \"sequential\"\n",
            "_________________________________________________________________\n",
            " Layer (type)                Output Shape              Param #   \n",
            "=================================================================\n",
            " conv2d (Conv2D)             (None, 26, 26, 25)        250       \n",
            "                                                                 \n",
            " max_pooling2d (MaxPooling2D  (None, 13, 13, 25)       0         \n",
            " )                                                               \n",
            "                                                                 \n",
            " conv2d_1 (Conv2D)           (None, 11, 11, 64)        14464     \n",
            "                                                                 \n",
            " max_pooling2d_1 (MaxPooling  (None, 5, 5, 64)         0         \n",
            " 2D)                                                             \n",
            "                                                                 \n",
            " flatten (Flatten)           (None, 1600)              0         \n",
            "                                                                 \n",
            " dense (Dense)               (None, 64)                102464    \n",
            "                                                                 \n",
            " dense_1 (Dense)             (None, 16)                1040      \n",
            "                                                                 \n",
            " dense_2 (Dense)             (None, 10)                170       \n",
            "                                                                 \n",
            "=================================================================\n",
            "Total params: 118,388\n",
            "Trainable params: 118,388\n",
            "Non-trainable params: 0\n",
            "_________________________________________________________________\n"
          ]
        }
      ]
    },
    {
      "cell_type": "code",
      "metadata": {
        "colab": {
          "base_uri": "https://localhost:8080/"
        },
        "id": "uqO6uluQJ3gi",
        "outputId": "373175a3-fec7-46f3-a37a-265822b5e7f1"
      },
      "source": [
        "#FIT the model\n",
        "size_of_batch=32\n",
        "model1.fit(x_train,y_train,batch_size=size_of_batch,epochs=30)"
      ],
      "execution_count": 8,
      "outputs": [
        {
          "output_type": "stream",
          "name": "stdout",
          "text": [
            "Epoch 1/30\n",
            "1875/1875 [==============================] - 41s 21ms/step - loss: 0.1706 - accuracy: 0.9475\n",
            "Epoch 2/30\n",
            "1875/1875 [==============================] - 40s 21ms/step - loss: 0.0536 - accuracy: 0.9839\n",
            "Epoch 3/30\n",
            "1875/1875 [==============================] - 39s 21ms/step - loss: 0.0368 - accuracy: 0.9883\n",
            "Epoch 4/30\n",
            "1875/1875 [==============================] - 39s 21ms/step - loss: 0.0279 - accuracy: 0.9912\n",
            "Epoch 5/30\n",
            "1875/1875 [==============================] - 39s 21ms/step - loss: 0.0206 - accuracy: 0.9933\n",
            "Epoch 6/30\n",
            "1875/1875 [==============================] - 39s 21ms/step - loss: 0.0171 - accuracy: 0.9942\n",
            "Epoch 7/30\n",
            "1875/1875 [==============================] - 39s 21ms/step - loss: 0.0135 - accuracy: 0.9957\n",
            "Epoch 8/30\n",
            "1875/1875 [==============================] - 39s 21ms/step - loss: 0.0117 - accuracy: 0.9960\n",
            "Epoch 9/30\n",
            "1875/1875 [==============================] - 39s 21ms/step - loss: 0.0104 - accuracy: 0.9966\n",
            "Epoch 10/30\n",
            "1875/1875 [==============================] - 39s 21ms/step - loss: 0.0075 - accuracy: 0.9975\n",
            "Epoch 11/30\n",
            "1875/1875 [==============================] - 39s 21ms/step - loss: 0.0084 - accuracy: 0.9971\n",
            "Epoch 12/30\n",
            "1875/1875 [==============================] - 38s 20ms/step - loss: 0.0070 - accuracy: 0.9977\n",
            "Epoch 13/30\n",
            "1875/1875 [==============================] - 39s 21ms/step - loss: 0.0056 - accuracy: 0.9980\n",
            "Epoch 14/30\n",
            "1875/1875 [==============================] - 39s 21ms/step - loss: 0.0059 - accuracy: 0.9980\n",
            "Epoch 15/30\n",
            "1875/1875 [==============================] - 38s 20ms/step - loss: 0.0058 - accuracy: 0.9981\n",
            "Epoch 16/30\n",
            "1875/1875 [==============================] - 38s 20ms/step - loss: 0.0056 - accuracy: 0.9983\n",
            "Epoch 17/30\n",
            "1875/1875 [==============================] - 38s 20ms/step - loss: 0.0052 - accuracy: 0.9986\n",
            "Epoch 18/30\n",
            "1875/1875 [==============================] - 38s 20ms/step - loss: 0.0049 - accuracy: 0.9982\n",
            "Epoch 19/30\n",
            "1875/1875 [==============================] - 38s 20ms/step - loss: 0.0054 - accuracy: 0.9982\n",
            "Epoch 20/30\n",
            "1875/1875 [==============================] - 38s 20ms/step - loss: 0.0042 - accuracy: 0.9987\n",
            "Epoch 21/30\n",
            "1875/1875 [==============================] - 38s 20ms/step - loss: 0.0044 - accuracy: 0.9985\n",
            "Epoch 22/30\n",
            "1875/1875 [==============================] - 38s 20ms/step - loss: 0.0046 - accuracy: 0.9984\n",
            "Epoch 23/30\n",
            "1875/1875 [==============================] - 38s 20ms/step - loss: 0.0039 - accuracy: 0.9988\n",
            "Epoch 24/30\n",
            "1875/1875 [==============================] - 38s 20ms/step - loss: 0.0044 - accuracy: 0.9985\n",
            "Epoch 25/30\n",
            "1875/1875 [==============================] - 39s 21ms/step - loss: 0.0039 - accuracy: 0.9988\n",
            "Epoch 26/30\n",
            "1875/1875 [==============================] - 39s 21ms/step - loss: 0.0027 - accuracy: 0.9992\n",
            "Epoch 27/30\n",
            "1875/1875 [==============================] - 39s 21ms/step - loss: 0.0032 - accuracy: 0.9991\n",
            "Epoch 28/30\n",
            "1875/1875 [==============================] - 38s 21ms/step - loss: 0.0029 - accuracy: 0.9991\n",
            "Epoch 29/30\n",
            "1875/1875 [==============================] - 38s 20ms/step - loss: 0.0038 - accuracy: 0.9988\n",
            "Epoch 30/30\n",
            "1875/1875 [==============================] - 39s 21ms/step - loss: 0.0025 - accuracy: 0.9993\n"
          ]
        },
        {
          "output_type": "execute_result",
          "data": {
            "text/plain": [
              "<keras.callbacks.History at 0x7f827438a110>"
            ]
          },
          "metadata": {},
          "execution_count": 8
        }
      ]
    },
    {
      "cell_type": "code",
      "metadata": {
        "colab": {
          "base_uri": "https://localhost:8080/"
        },
        "id": "LQUSX1MmO0go",
        "outputId": "093408d7-1aa5-44a0-a45a-f5c5db44c1fa"
      },
      "source": [
        "#check the accuracy\n",
        "test_loss,test_accuracy=model1.evaluate(x_test,y_test)\n",
        "print(f'Test loss is {test_loss}')\n",
        "print(f'Test accuracy is {test_accuracy}')"
      ],
      "execution_count": 9,
      "outputs": [
        {
          "output_type": "stream",
          "name": "stdout",
          "text": [
            "313/313 [==============================] - 2s 7ms/step - loss: 0.0578 - accuracy: 0.9908\n",
            "Test loss is 0.057806823402643204\n",
            "Test accuracy is 0.9908000230789185\n"
          ]
        }
      ]
    },
    {
      "cell_type": "markdown",
      "metadata": {
        "id": "sDghOSLzV0X3"
      },
      "source": [
        "**OBSERVATIONS**"
      ]
    },
    {
      "cell_type": "markdown",
      "metadata": {
        "id": "lvxoWffcWBEl"
      },
      "source": [
        "By using relu activation function instead of tanh our test accuracy improved. \n",
        "\n",
        "Expected reason:-\n",
        "\n",
        "ReLu is faster to compute than the sigmoid function, and its derivative is faster to compute. This makes a significant difference to training and inference time for neural networks: only a constant factor, but constants can matter."
      ]
    }
  ]
}